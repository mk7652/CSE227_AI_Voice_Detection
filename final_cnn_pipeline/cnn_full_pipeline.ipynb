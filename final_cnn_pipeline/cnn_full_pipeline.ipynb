{
 "cells": [
  {
   "cell_type": "code",
   "execution_count": 1,
   "metadata": {},
   "outputs": [
    {
     "ename": "ModuleNotFoundError",
     "evalue": "No module named 'matplotlib'",
     "output_type": "error",
     "traceback": [
      "\u001b[0;31m---------------------------------------------------------------------------\u001b[0m",
      "\u001b[0;31mModuleNotFoundError\u001b[0m                       Traceback (most recent call last)",
      "Cell \u001b[0;32mIn[1], line 3\u001b[0m\n\u001b[1;32m      1\u001b[0m \u001b[38;5;28;01mfrom\u001b[39;00m\u001b[38;5;250m \u001b[39m\u001b[38;5;21;01mPIL\u001b[39;00m\u001b[38;5;250m \u001b[39m\u001b[38;5;28;01mimport\u001b[39;00m Image\n\u001b[1;32m      2\u001b[0m \u001b[38;5;28;01mimport\u001b[39;00m\u001b[38;5;250m \u001b[39m\u001b[38;5;21;01mnumpy\u001b[39;00m\u001b[38;5;250m \u001b[39m\u001b[38;5;28;01mas\u001b[39;00m\u001b[38;5;250m \u001b[39m\u001b[38;5;21;01mnp\u001b[39;00m\n\u001b[0;32m----> 3\u001b[0m \u001b[38;5;28;01mimport\u001b[39;00m\u001b[38;5;250m \u001b[39m\u001b[38;5;21;01mmatplotlib\u001b[39;00m\u001b[38;5;21;01m.\u001b[39;00m\u001b[38;5;21;01mpyplot\u001b[39;00m\u001b[38;5;250m \u001b[39m\u001b[38;5;28;01mas\u001b[39;00m\u001b[38;5;250m \u001b[39m\u001b[38;5;21;01mplt\u001b[39;00m\n\u001b[1;32m      4\u001b[0m \u001b[38;5;28;01mimport\u001b[39;00m\u001b[38;5;250m \u001b[39m\u001b[38;5;21;01mos\u001b[39;00m\n\u001b[1;32m      6\u001b[0m \u001b[38;5;28;01mfrom\u001b[39;00m\u001b[38;5;250m \u001b[39m\u001b[38;5;21;01mdatetime\u001b[39;00m\u001b[38;5;250m \u001b[39m\u001b[38;5;28;01mimport\u001b[39;00m datetime\n",
      "\u001b[0;31mModuleNotFoundError\u001b[0m: No module named 'matplotlib'"
     ]
    }
   ],
   "source": [
    "from PIL import Image\n",
    "import numpy as np\n",
    "import matplotlib.pyplot as plt\n",
    "import os\n",
    "\n",
    "from datetime import datetime\n",
    "\n",
    "import torch\n",
    "import torchvision.datasets as datasets\n",
    "import torchvision.transforms as transforms\n",
    "from torch.utils.data import DataLoader, Subset\n",
    "\n",
    "import torch.nn as nn\n",
    "import torch.optim as optim\n",
    "\n",
    "from torchsummary import summary"
   ]
  },
  {
   "cell_type": "code",
   "execution_count": null,
   "metadata": {},
   "outputs": [],
   "source": [
    "# hyperparams -------------------------------------------------------------\n",
    "\n",
    "# NOTE: as an attempt to streamline hyperparam study, all tunable hyper\n",
    "#       params are listed below and ideally won't be hardcoded elsewhere\n",
    "#\n",
    "#       intended use case (but ofc do what works!): \n",
    "#         1 - name this iteration\n",
    "#         2 - update the value below that is being tested in this iter \n",
    "#         3 - rerun the notebook\n",
    "#         4 - model, loss curves, accuracy curves, and plots are saved\n",
    "\n",
    "SAVE_AS_ITER = \"baseline\"                         # name of this iteration\n",
    "\n",
    "EPOCHS = 20                                       # num of epochs to train\n",
    "BATCH_SIZE = 32                                   # batch size\n",
    "IMG_H = 175                                       # orig img size\n",
    "IMG_W = 1550                                      # orig img size\n",
    "IMG_RESZ = 32                                     # img resized\n",
    "\n",
    "TRAIN_SHUFFLE = True                              # shuffle in dataloader\n",
    "EVAL_SHUFFLE = True                               # shuffle in dataloader\n",
    "\n",
    "CIN = 3                                           # RGB 3 channels in\n",
    "C1 = 16                                           # start with 16 filters\n",
    "C2 = 32                                           # double num of filters\n",
    "COUT = 1                                          # 1 for positive channel\n",
    "\n",
    "CONV1_K = 3                                       # kernel sz of conv1\n",
    "CONV1_P = 1                                       # padding of conv1\n",
    "CONV2_K = 3                                       # kernel sz of conv2\n",
    "CONV2_P = 1                                       # padding of conv2\n",
    "POOL1_K  = 2                                      # kernel sz of maxpool1 \n",
    "POOL2_K = 2                                       # kernle sz of maxpool2\n",
    "\n",
    "FC1 = C2*8*8                                      # size into FC1\n",
    "FC2 = 64                                          # size out FC1, in FC2\n",
    "\n",
    "LR = 0.001                                        # learning rate"
   ]
  },
  {
   "cell_type": "code",
   "execution_count": null,
   "metadata": {
    "id": "osBl5CBzFn5G"
   },
   "outputs": [],
   "source": [
    "# organize directories ----------------------------------------------------\n",
    "cwd = os.getcwd()                                 \n",
    "# access data here\n",
    "train_dir = cwd+\"/spg_data/train/\"\n",
    "val_dir = cwd+\"/spg_data/val/\"\n",
    "test_dir = cwd+\"/spg_data/test/\"\n",
    "\n",
    "# data for visualization\n",
    "vis_dir = cwd+\"/spg_data/for_testing_visualization/\"\n",
    "\n",
    "# save iterations here\n",
    "date = datetime.today().strftime('%Y-%m-%d')\n",
    "iter_dir = cwd+\"/saved_iterations/\"+date+\"/\""
   ]
  },
  {
   "cell_type": "code",
   "execution_count": null,
   "metadata": {
    "colab": {
     "base_uri": "https://localhost:8080/"
    },
    "id": "-q7hfrQuEzzO",
    "outputId": "2cc01247-042b-44df-a829-92a04e3c0563"
   },
   "outputs": [
    {
     "name": "stdout",
     "output_type": "stream",
     "text": [
      "using device: cpu\n"
     ]
    }
   ],
   "source": [
    "# CUDA --------------------------------------------------------------------\n",
    "if torch.cuda.is_available():\n",
    "    device = torch.device('cuda')\n",
    "else:\n",
    "    device = torch.device('cpu')\n",
    "\n",
    "print('using device:', device)"
   ]
  },
  {
   "cell_type": "code",
   "execution_count": null,
   "metadata": {},
   "outputs": [],
   "source": [
    "# prep data ---------------------------------------------------------------\n",
    "\n",
    "# NOTE:\n",
    "# - already noted with group, but am concerned about data leakage based on\n",
    "#   how data was organized\n",
    "# - did not use random split, hopefully helps combat data leakage a little\n",
    "# - it is nontrivial to split after ImageFolder application, so folders\n",
    "#   should be organized into train, val, and test beforehand\n",
    "# - 80/10/10 split\n",
    "# - spect imgs are originally (175, 1550)\n",
    "\n",
    "# transforms \n",
    "train_tf = transforms.Compose([\n",
    "    transforms.Resize((IMG_RESZ, IMG_RESZ)),\n",
    "    # transforms.RandomHorizontalFlip(),\n",
    "    transforms.ToTensor()\n",
    "])\n",
    "\n",
    "eval_tf = transforms.Compose([\n",
    "    transforms.Resize((IMG_RESZ, IMG_RESZ)),\n",
    "    transforms.ToTensor()\n",
    "])\n",
    "\n",
    "# ImageFolder\n",
    "train_ds = datasets.ImageFolder(root=train_dir, transform=train_tf)\n",
    "val_ds = datasets.ImageFolder(root=val_dir, transform=eval_tf)\n",
    "test_ds = datasets.ImageFolder(root=test_dir, transform=eval_tf)\n",
    "\n",
    "# DataLoader\n",
    "train_dl = DataLoader(train_ds, batch_size=BATCH_SIZE,\n",
    "                      shuffle=TRAIN_SHUFFLE, num_workers=2)\n",
    "val_dl = DataLoader(val_ds, batch_size=BATCH_SIZE,\n",
    "                      shuffle=EVAL_SHUFFLE, num_workers=2)\n",
    "test_dl = DataLoader(test_ds, batch_size=BATCH_SIZE,\n",
    "                      shuffle=EVAL_SHUFFLE, num_workers=2)"
   ]
  },
  {
   "cell_type": "code",
   "execution_count": null,
   "metadata": {
    "colab": {
     "base_uri": "https://localhost:8080/"
    },
    "id": "BcyAf-LozdkW",
    "outputId": "c9249d2e-0657-4016-fbc9-aab529f6093c"
   },
   "outputs": [
    {
     "name": "stdout",
     "output_type": "stream",
     "text": [
      "input size to CNN:\n",
      " torch.Size([32, 3, 32, 32])\n",
      "\n",
      "output size from CNN:\n",
      " torch.Size([32, 1])\n"
     ]
    }
   ],
   "source": [
    "# CNN model ---------------------------------------------------------------\n",
    "# architecture based on:\n",
    "# Pizak (2015) \"Environmental Sound Classification with CNNs\"\n",
    "class CNN(nn.Module):\n",
    "  def __init__(self):\n",
    "    super(CNN, self).__init__()\n",
    "    self.conv1 = nn.Conv2d(CIN, C1, kernel_size=CONV1_K, padding=CONV1_P)\n",
    "    self.relu1 = nn.ReLU(inplace=True)\n",
    "    self.pool1 = nn.MaxPool2d(kernel_size=POOL1_K)\n",
    "    self.dropout1 = nn.Dropout(0.5)\n",
    "    self.conv2 = nn.Conv2d(C1, C2, kernel_size=CONV2_K, padding=CONV2_P)\n",
    "    self.relu2 = nn.ReLU(inplace=True)\n",
    "    self.pool2 = nn.MaxPool2d(kernel_size=POOL2_K)\n",
    "    self.dropout2 = nn.Dropout(0.5)\n",
    "    self.fc1 = nn.Linear(FC1, FC2)\n",
    "    self.relu3 = nn.ReLU(inplace=True)\n",
    "    self.fc2 = nn.Linear(FC2, COUT)\n",
    "    self.sigmoid = nn.Sigmoid()\n",
    "\n",
    "  def forward(self, x):\n",
    "    x = self.relu1(self.conv1(x))\n",
    "    x = self.dropout1(self.pool1(x))\n",
    "    x = self.relu2(self.conv2(x))\n",
    "    x = self.dropout2(self.pool2(x))\n",
    "    x = x.view(-1, FC1)\n",
    "    x = self.relu3(self.fc1(x))\n",
    "    x = self.sigmoid(self.fc2(x))\n",
    "    return x\n",
    "  \n",
    "\n",
    "def test_CNN():\n",
    "  '''\n",
    "  this function checks the input and output sizes of our CNN model\n",
    "  '''\n",
    "  # example input of single batch_size\n",
    "  x = torch.zeros((BATCH_SIZE, CIN, IMG_RESZ, IMG_RESZ), \n",
    "                  dtype=torch.float32)\n",
    "  model = CNN()\n",
    "  y = model(x)\n",
    "  print(\"input size to CNN:\\n\", np.shape(x))\n",
    "  print(\"\\noutput size from CNN:\\n\", np.shape(y))\n",
    "\n",
    "test_CNN()\n",
    "# in:  [batch size, num of input channels, img height, img width]\n",
    "# out: [batch size, output channel (our positive class)]\n",
    "\n",
    "# alternatively, print torchsummary summary\n",
    "# model = CNN()\n",
    "# summary(model, input_size=(CIN, IMG_RESZ, IMG_RESZ), \n",
    "#                            batch_size=BATCH_SIZE)"
   ]
  },
  {
   "cell_type": "code",
   "execution_count": null,
   "metadata": {},
   "outputs": [],
   "source": [
    "# processes for training and evaluating model -----------------------------\n",
    "def eval(model, device, eval_loader, crit = nn.BCELoss()):\n",
    "  '''\n",
    "  this function evaluates the model with validation dataset\n",
    "  returns the loss and accuracy curves for the validation dataset\n",
    "  '''\n",
    "  correct = 0\n",
    "  total = 0\n",
    "  loss = 0\n",
    "\n",
    "  model.eval()\n",
    "\n",
    "  with torch.no_grad():\n",
    "    for inputs, labels in eval_loader:\n",
    "      inputs = inputs.to(device)\n",
    "      labels = labels.to(device, dtype=torch.float32)\n",
    "\n",
    "      outputs = model(inputs)\n",
    "\n",
    "      preds = outputs > 0.5\n",
    "      preds = preds.squeeze()\n",
    "      \n",
    "      correct += float(torch.eq(preds, labels.bool()).sum().item())\n",
    "      total += labels.size(0)\n",
    "\n",
    "      l = crit(outputs.squeeze(), labels)\n",
    "      loss += l.item()\n",
    "\n",
    "    accuracy = correct/total\n",
    "  \n",
    "  return loss, accuracy\n",
    "\n",
    "\n",
    "def subset_eval_with_print(model, device, test_dataset, subset_len,\n",
    "                           crit=nn.BCELoss()):\n",
    "  correct = 0\n",
    "  total = 0\n",
    "  loss = 0\n",
    "  \n",
    "  model.to(device)\n",
    "  model.eval()\n",
    "\n",
    "  # get random subset\n",
    "  rand_indices = torch.randperm(len(test_dataset))[:subset_len]\n",
    "  subset = Subset(test_dataset, rand_indices)\n",
    "  subset_loader = DataLoader(subset, batch_size=subset_len, shuffle=False)\n",
    "\n",
    "  # get original images (without resize)\n",
    "  orig_imgs = list(os.listdir(vis_dir))\n",
    "  indices = rand_indices.tolist()\n",
    "  orig_imgs = [orig_imgs[i] for i in indices]\n",
    "  text = ['AI','REAL']\n",
    "\n",
    "  with torch.no_grad():\n",
    "    for inputs, labels in subset_loader:\n",
    "      inputs = inputs.to(device)\n",
    "      labels = labels.to(device, dtype=torch.float32)\n",
    "\n",
    "      outputs = model(inputs)\n",
    "\n",
    "      preds = outputs > 0.5\n",
    "      preds = preds.squeeze()\n",
    "      \n",
    "      correct += float(torch.eq(preds, labels.bool()).sum().item())\n",
    "      total += labels.size(0)\n",
    "\n",
    "      l = crit(outputs.squeeze(), labels)\n",
    "      loss += l.item()\n",
    "\n",
    "      # print images\n",
    "      for i, img in enumerate(inputs):\n",
    "        #  plt.imshow(img.permute(1,2,0))\n",
    "        #  plt.show()\n",
    "        #  plt.figure()\n",
    "        plt.imshow(Image.open(vis_dir+orig_imgs[i]))\n",
    "        plt.title(\n",
    "          f\"Label: {text[labels[i]]}, Prediction: {text[preds[i]]}\")\n",
    "        plt.show()\n",
    "        plt.figure()\n",
    "\n",
    "    accuracy = correct/total\n",
    "  \n",
    "  return loss, accuracy\n",
    "\n",
    "\n",
    "def train(model, device, train_loader, val_loader):\n",
    "  '''\n",
    "  this function trains the model on training dataset with BCE loss and Adam\n",
    "  optimizer, returns training loss and accuracy and validation loss and\n",
    "  accuracy, all hyperparams are defined at beginning of notebook\n",
    "  '''\n",
    "  train_loss_curve = []\n",
    "  train_acc_curve = []\n",
    "  val_loss_curve = []\n",
    "  val_acc_curve = []\n",
    "\n",
    "  model = model.to(device)\n",
    "  model.train()\n",
    "\n",
    "  optimizer = optim.Adam(model.parameters(), lr=LR)\n",
    "  crit = nn.BCELoss()\n",
    "\n",
    "  for epoch in range(EPOCHS):\n",
    "    loss = 0.0\n",
    "    correct = 0\n",
    "    total = 0\n",
    "\n",
    "    for inputs, labels in train_loader:\n",
    "      inputs = inputs.to(device)\n",
    "      labels = labels.to(device, dtype=torch.float32)\n",
    "\n",
    "      optimizer.zero_grad()\n",
    "      outputs = model(inputs).squeeze()\n",
    "      l = crit(outputs, labels)\n",
    "      l.backward()\n",
    "      optimizer.step()\n",
    "      loss += l.item()\n",
    "\n",
    "      preds = (outputs > 0.5).squeeze()\n",
    "      correct += float(torch.eq(preds, labels.bool()).sum().item())\n",
    "      total += labels.size(0)\n",
    "\n",
    "    train_loss_curve.append(loss)\n",
    "    train_acc_curve.append(correct/total)\n",
    "\n",
    "    val_loss, val_acc = eval(model, device, val_loader, crit)\n",
    "    val_loss_curve.append(val_loss)\n",
    "    val_acc_curve.append(val_acc)\n",
    "\n",
    "  return train_loss_curve, train_acc_curve, val_loss_curve, val_acc_curve"
   ]
  },
  {
   "cell_type": "code",
   "execution_count": null,
   "metadata": {},
   "outputs": [],
   "source": [
    "# initialize CNN model, train, and evaluate -------------------------------\n",
    "model = CNN()\n",
    "train_loss, train_acc, val_loss, val_acc = train(model, device, train_dl,\n",
    "                                                 val_dl)"
   ]
  },
  {
   "cell_type": "code",
   "execution_count": null,
   "metadata": {},
   "outputs": [
    {
     "data": {
      "text/plain": [
       "<matplotlib.legend.Legend at 0x1e523a49d00>"
      ]
     },
     "execution_count": 32,
     "metadata": {},
     "output_type": "execute_result"
    },
    {
     "data": {
      "image/png": "[encoded data removed]",
      "text/plain": [
       "<Figure size 640x480 with 1 Axes>"
      ]
     },
     "metadata": {},
     "output_type": "display_data"
    },
    {
     "data": {
      "image/png": "[encoded data removed]",
      "text/plain": [
       "<Figure size 640x480 with 1 Axes>"
      ]
     },
     "metadata": {},
     "output_type": "display_data"
    }
   ],
   "source": [
    "# plot the results --------------------------------------------------------\n",
    "plt.plot(train_loss, label='Training')\n",
    "plt.plot(val_loss, label='Validation')\n",
    "plt.title(\"Loss Curves (\"+SAVE_AS_ITER+\")\")\n",
    "plt.xlabel(\"Epoch\")\n",
    "plt.xticks(range(0,EPOCHS,3))\n",
    "plt.legend()\n",
    "plt.figure()\n",
    "plt.plot(train_acc, label='Training' )\n",
    "plt.plot(val_acc, label='Validation')\n",
    "plt.title(\"Accuracy Curves (\"+SAVE_AS_ITER+\")\")\n",
    "plt.xlabel(\"Epoch\")\n",
    "plt.xticks(range(0,EPOCHS,3))\n",
    "plt.legend()"
   ]
  },
  {
   "cell_type": "code",
   "execution_count": null,
   "metadata": {},
   "outputs": [
    {
     "name": "stdout",
     "output_type": "stream",
     "text": [
      "Test Accuracy: 0.9848484848484849\n"
     ]
    }
   ],
   "source": [
    "# evaluate model with test dataset ----------------------------------------\n",
    "_, test_acc = eval(model, device, test_dl)\n",
    "print(\"Test Accuracy:\", test_acc)"
   ]
  },
  {
   "cell_type": "code",
   "execution_count": null,
   "metadata": {},
   "outputs": [],
   "source": [
    "# do manual review of subsets ---------------------------------------------\n",
    "# _, sub_acc = subset_eval_with_print(model, device, test_ds, subset_len=10)\n",
    "# print(\"Subset Test Accuracy:\", sub_acc)\n",
    "\n",
    "# TODO: write functions to save plots and models"
   ]
  }
 ],
 "metadata": {
  "colab": {
   "provenance": []
  },
  "kernelspec": {
   "display_name": ".venv",
   "language": "python",
   "name": "python3"
  },
  "language_info": {
   "codemirror_mode": {
    "name": "ipython",
    "version": 3
   },
   "file_extension": ".py",
   "mimetype": "text/x-python",
   "name": "python",
   "nbconvert_exporter": "python",
   "pygments_lexer": "ipython3",
   "version": "3.8.9"
  }
 },
 "nbformat": 4,
 "nbformat_minor": 0
}
